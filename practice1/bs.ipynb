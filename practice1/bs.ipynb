{
 "cells": [
  {
   "cell_type": "code",
   "execution_count": 1,
   "id": "c9232473",
   "metadata": {},
   "outputs": [],
   "source": [
    "import requests\n",
    "from bs4 import BeautifulSoup"
   ]
  },
  {
   "cell_type": "code",
   "execution_count": 2,
   "id": "8e7a1a4d",
   "metadata": {},
   "outputs": [],
   "source": [
    "cookies = {\n",
    "    '__ddg1_': 'OfJcSYgvqRLyv7PKt5Gk',\n",
    "    'advcake_track_id': 'dcc19b40-3741-d60c-286d-84851267646d',\n",
    "    'advcake_session_id': '65da341c-557c-4d80-8d35-0c98aaeb20de',\n",
    "    '_userGUID': '0:lp4exc3j:Zf52uJjiv~5W39yMyRYtDoJOEKa17d6j',\n",
    "    'dSesn': '631c57d9-b119-16c7-f0b0-3a71b5030e51',\n",
    "    '_dvs': '0:lp4exc3j:suv_azvAbUekifdGqVd8Pju0Ics9cNGH',\n",
    "    '_ym_b': '02e74f10e0327ad868d138f2b4fdd6f0',\n",
    "}\n",
    "\n",
    "headers = {\n",
    "    'authority': 'brandshop.ru',\n",
    "    'accept': 'text/html,application/xhtml+xml,application/xml;q=0.9,image/avif,image/webp,image/apng,*/*;q=0.8,application/signed-exchange;v=b3;q=0.7',\n",
    "    'accept-language': 'ru-RU,ru;q=0.9,en-US;q=0.8,en;q=0.7',\n",
    "    'cache-control': 'max-age=0',\n",
    "    # 'cookie': '__ddg1_=OfJcSYgvqRLyv7PKt5Gk; advcake_track_id=dcc19b40-3741-d60c-286d-84851267646d; advcake_session_id=65da341c-557c-4d80-8d35-0c98aaeb20de; _userGUID=0:lp4exc3j:Zf52uJjiv~5W39yMyRYtDoJOEKa17d6j; dSesn=631c57d9-b119-16c7-f0b0-3a71b5030e51; _dvs=0:lp4exc3j:suv_azvAbUekifdGqVd8Pju0Ics9cNGH; _ym_b=02e74f10e0327ad868d138f2b4fdd6f0',\n",
    "    'dnt': '1',\n",
    "    'referer': 'https://www.google.com/',\n",
    "    'sec-ch-ua': '\"Google Chrome\";v=\"119\", \"Chromium\";v=\"119\", \"Not?A_Brand\";v=\"24\"',\n",
    "    'sec-ch-ua-mobile': '?0',\n",
    "    'sec-ch-ua-platform': '\"Windows\"',\n",
    "    'sec-fetch-dest': 'document',\n",
    "    'sec-fetch-mode': 'navigate',\n",
    "    'sec-fetch-site': 'same-origin',\n",
    "    'sec-fetch-user': '?1',\n",
    "    'upgrade-insecure-requests': '1',\n",
    "    'user-agent': 'Mozilla/5.0 (Windows NT 10.0; Win64; x64) AppleWebKit/537.36 (KHTML, like Gecko) Chrome/119.0.0.0 Safari/537.36',\n",
    "}\n",
    "\n",
    "response = requests.get('https://brandshop.ru/muzhskoe/', cookies=cookies, headers=headers)"
   ]
  },
  {
   "cell_type": "code",
   "execution_count": null,
   "id": "9bbb7636",
   "metadata": {},
   "outputs": [],
   "source": [
    "if response.ok:\n",
    "    # Parse the HTML content of the page with Beautifulsoup\n",
    "    soup = BeautifulSoup(response.text, \"html.parser\")\n",
    "    products = soup.select(\"div.product-card\")\n",
    "                           \n",
    "    for product in products:\n",
    "        # Extract product name\n",
    "        name = product.select_one('.product-card_title').text.strip()\n",
    "        # Extract product price\n",
    "        price = product.select_one('.product-price').text\n",
    "        img = product.select_one('img')\n",
    "                                  \n",
    "        print(f'Product Name: {name}, Price: {price}')\n",
    "else:\n",
    "    print(f'Failed to retrieve the webpage. Status code: {response.status_code}')"
   ]
  },
  {
   "cell_type": "code",
   "execution_count": null,
   "id": "e015cc31",
   "metadata": {},
   "outputs": [],
   "source": []
  }
 ],
 "metadata": {
  "kernelspec": {
   "display_name": "Python 3",
   "language": "python",
   "name": "python3"
  },
  "language_info": {
   "codemirror_mode": {
    "name": "ipython",
    "version": 3
   },
   "file_extension": ".py",
   "mimetype": "text/x-python",
   "name": "python",
   "nbconvert_exporter": "python",
   "pygments_lexer": "ipython3",
   "version": "3.8.8"
  }
 },
 "nbformat": 4,
 "nbformat_minor": 5
}
